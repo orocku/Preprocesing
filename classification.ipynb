{
 "cells": [
  {
   "cell_type": "code",
   "execution_count": 1,
   "id": "6771510b-f080-4687-bab4-52329a0f6c28",
   "metadata": {},
   "outputs": [],
   "source": [
    "import os\n",
    "import glob\n",
    "import pandas as pd\n",
    "import pickle"
   ]
  },
  {
   "cell_type": "code",
   "execution_count": 2,
   "id": "b7b12612-ff6f-489e-8be6-922ca1cea044",
   "metadata": {},
   "outputs": [],
   "source": [
    "pd.set_option('display.max_colwidth', None)"
   ]
  },
  {
   "cell_type": "code",
   "execution_count": 4,
   "id": "94362ccd-13b9-4a83-97ba-0f217281aab1",
   "metadata": {},
   "outputs": [],
   "source": [
    "def read_txt(path,label,source):\n",
    "    txt_files = glob.glob(path+\"*.txt\")\n",
    "    data_list = []\n",
    "    for f in txt_files:\n",
    "        with open (f, \"r\",encoding=\"utf8\") as myfile:\n",
    "            try:\n",
    "                data_list.append(myfile.read())\n",
    "            except:\n",
    "                data_list.append('')\n",
    "    df = pd.DataFrame({'text':data_list})\n",
    "    df['label'] = label\n",
    "    df['source'] = source\n",
    "    return df\n",
    "    print(\"-----------------------------------data has been created-------------------------------\")"
   ]
  },
  {
   "cell_type": "code",
   "execution_count": 20,
   "id": "1427d24b-9ea3-4fd4-b72f-74dde30125ba",
   "metadata": {},
   "outputs": [],
   "source": [
    "df_train_pos = read_txt(\"D:/pycv/Data/acmdb/train/pos/\",1,'train')\n",
    "df_train_neg = read_txt(\"D:/pycv/Data/acmdb/train/neg/\",0,'train')\n",
    "df_test_pos = read_txt(\"D:/pycv/Data/acmdb/test/pos/\",1,'test')\n",
    "df_test_neg = read_txt(\"D:/pycv/Data/acmdb/test/neg/\",0,'test')"
   ]
  },
  {
   "cell_type": "code",
   "execution_count": 28,
   "id": "a3e07e89-0bd7-44cc-bc6e-0fe96dfbed34",
   "metadata": {},
   "outputs": [],
   "source": [
    "df = pd.concat([df_train_pos,df_train_neg,df_test_pos,df_test_neg])\n",
    "df = df.reset_index(drop=True)"
   ]
  },
  {
   "cell_type": "code",
   "execution_count": 34,
   "id": "73c1fc72-5f7a-42b4-be88-588513a1d512",
   "metadata": {},
   "outputs": [],
   "source": [
    "df.to_csv(\"D:/pycv/Data/acmdb/comb_df.csv\")"
   ]
  },
  {
   "cell_type": "code",
   "execution_count": 6,
   "id": "d91a5f7b-15b0-4ddc-b3bb-60b83f79b92d",
   "metadata": {},
   "outputs": [],
   "source": [
    "def save_obj(obj, name):\n",
    "    with open('D:/pycv/Data/acmdb/'+name+'.pkl','wb') as f:\n",
    "        pickle.dump(obj, f, pickle.HIGHEST_PROTOCOL)\n",
    "def load_obj(name):\n",
    "    with open('D:/pycv/Data/acmdb/'+name+'.pkl','rb') as f:\n",
    "        return pickle.load(f)"
   ]
  },
  {
   "cell_type": "code",
   "execution_count": 12,
   "id": "c0b11daf-c92f-4f44-a6d1-32f032375c6f",
   "metadata": {},
   "outputs": [],
   "source": [
    "save_obj(df,'comb_df')"
   ]
  },
  {
   "cell_type": "code",
   "execution_count": 7,
   "id": "6f09ae8f-b6a5-4e41-998b-480783d45f31",
   "metadata": {},
   "outputs": [],
   "source": [
    "df = load_obj('comb_df')\n",
    "df = df.sample(frac=1).reset_index(drop=True)"
   ]
  },
  {
   "cell_type": "code",
   "execution_count": 9,
   "id": "20f9822c-25b8-4bdc-a632-17f9226102f7",
   "metadata": {},
   "outputs": [],
   "source": [
    "from bs4 import BeautifulSoup"
   ]
  },
  {
   "cell_type": "code",
   "execution_count": 10,
   "id": "16555f61-c324-4951-a5a2-3037c798ed99",
   "metadata": {},
   "outputs": [],
   "source": [
    "df['bs4'] = df['text'].apply(lambda x:BeautifulSoup(x, 'html.parser'))"
   ]
  },
  {
   "cell_type": "code",
   "execution_count": 17,
   "id": "72c73f2e-182a-4126-94d8-cddbf85cc321",
   "metadata": {},
   "outputs": [],
   "source": [
    "df = df.sample(frac=1).reset_index(drop=True)"
   ]
  },
  {
   "cell_type": "code",
   "execution_count": 2,
   "id": "75690e5f-2f95-40ee-a219-ebfe59fc6a07",
   "metadata": {},
   "outputs": [],
   "source": [
    "nums = [1,2,3,4,5,2,2,2,3,3,4]"
   ]
  },
  {
   "cell_type": "code",
   "execution_count": 6,
   "id": "d074b973-24d0-4f04-9374-0ba365f3a1d9",
   "metadata": {},
   "outputs": [],
   "source": [
    "from collections import Counter"
   ]
  },
  {
   "cell_type": "code",
   "execution_count": 13,
   "id": "41f3ac25-78bf-404c-bcd6-96e767bfc204",
   "metadata": {},
   "outputs": [],
   "source": [
    "Count = Counter(nums).items()"
   ]
  },
  {
   "cell_type": "code",
   "execution_count": 14,
   "id": "b34ddafd-1913-40e2-8ce9-5748b3d41e70",
   "metadata": {},
   "outputs": [
    {
     "data": {
      "text/plain": [
       "dict_items([(1, 1), (2, 4), (3, 3), (4, 2), (5, 1)])"
      ]
     },
     "execution_count": 14,
     "metadata": {},
     "output_type": "execute_result"
    }
   ],
   "source": [
    "Count"
   ]
  },
  {
   "cell_type": "code",
   "execution_count": 15,
   "id": "d6d01e4a-1d2e-459e-b72f-d59b02e7353f",
   "metadata": {},
   "outputs": [],
   "source": [
    "from itertools import chain"
   ]
  },
  {
   "cell_type": "code",
   "execution_count": 21,
   "id": "af8cd2c2-5708-4f6b-b04f-de9acda1dad5",
   "metadata": {},
   "outputs": [
    {
     "data": {
      "text/plain": [
       "[1, 2, 3, 6, 7, 8]"
      ]
     },
     "execution_count": 21,
     "metadata": {},
     "output_type": "execute_result"
    }
   ],
   "source": [
    "list(chain(*a))"
   ]
  },
  {
   "cell_type": "code",
   "execution_count": 20,
   "id": "4f8db693-050b-412c-8ce3-f35f8e99073d",
   "metadata": {},
   "outputs": [],
   "source": [
    "a = [[1],[2,3],[],[6,7,8]]"
   ]
  },
  {
   "cell_type": "code",
   "execution_count": 22,
   "id": "db7932ed-c137-4435-8f23-fcffbf780733",
   "metadata": {},
   "outputs": [
    {
     "data": {
      "text/plain": [
       "[1, 2, 3, 6, 7, 8]"
      ]
     },
     "execution_count": 22,
     "metadata": {},
     "output_type": "execute_result"
    }
   ],
   "source": [
    "[_ for i in a for _ in i]"
   ]
  },
  {
   "cell_type": "code",
   "execution_count": null,
   "id": "86703848-35e7-46f2-af2d-4c91821cdf71",
   "metadata": {},
   "outputs": [],
   "source": []
  }
 ],
 "metadata": {
  "kernelspec": {
   "display_name": "Python 3 (ipykernel)",
   "language": "python",
   "name": "python3"
  },
  "language_info": {
   "codemirror_mode": {
    "name": "ipython",
    "version": 3
   },
   "file_extension": ".py",
   "mimetype": "text/x-python",
   "name": "python",
   "nbconvert_exporter": "python",
   "pygments_lexer": "ipython3",
   "version": "3.8.12"
  }
 },
 "nbformat": 4,
 "nbformat_minor": 5
}
